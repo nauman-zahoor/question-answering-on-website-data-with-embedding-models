{
 "cells": [
  {
   "cell_type": "code",
   "execution_count": null,
   "id": "da1712b4",
   "metadata": {},
   "outputs": [],
   "source": [
    "\n",
    "import requests\n",
    "from bs4 import BeautifulSoup\n",
    "from random import randint\n",
    "from time import sleep\n",
    "import pickle\n",
    "\n",
    "\n",
    "# User-Agent Spoofing\n",
    "user_agent = \"Mozilla/5.0 (Windows NT 10.0; Win64; x64) AppleWebKit/537.36 (KHTML, like Gecko) Chrome/58.0.3029.110 Safari/537.3\"\n",
    "\n",
    "headers = {'User-Agent': user_agent}\n",
    "\n",
    "\n",
    "# Rate Limiting\n",
    "def random_delay():\n",
    "    sleep(randint(1, 4))  # Simulate human-like behavior\n",
    "\n",
    "# Parse HTML\n",
    "def parse_html(url):\n",
    "    response = requests.get(url, headers=headers)\n",
    "    return BeautifulSoup(response.content, 'html.parser')\n",
    "\n",
    "# Pagination and Crawling\n",
    "def crawl_pages(start_url,document_links):\n",
    "    depth=100000000\n",
    "    visited_urls = set()\n",
    "    to_visit = [start_url]\n",
    "    ix=0\n",
    "\n",
    "    while to_visit and depth > 0:\n",
    "        current_url = to_visit.pop(0)\n",
    "        if current_url in visited_urls:\n",
    "            continue\n",
    "        print(' current_url: ',current_url, ' visited_urls: ',len(visited_urls), ' to_visit: ',len(to_visit), 'document_links: ', len(document_links) )\n",
    "        \n",
    "        if ('.pdf' in current_url )or ('doc' in current_url) or ('docx' in current_url) or ('ppt' in current_url) or( 'pptx' in current_url):\n",
    "            document_links.append(current_url)\n",
    "            with open('document_links.pkl', 'wb') as pickle_file:\n",
    "                pickle.dump(document_links, pickle_file)\n",
    "            continue\n",
    "            \n",
    "        \n",
    "        soup = parse_html(current_url)\n",
    "        visited_urls.add(current_url)\n",
    "        depth -= 1\n",
    "\n",
    "        # Extract data or perform actions here\n",
    "        page_text = soup.get_text()\n",
    "        save_to_file(current_url, page_text,ix)\n",
    "        ix=ix+1\n",
    "\n",
    "        # Find and add links to to_visit list\n",
    "        links = [link.get('href') for link in soup.find_all('a', href=True)]\n",
    "        for link in links:\n",
    "            if link.startswith('/'):\n",
    "                link = target_domain + link\n",
    "            if link.startswith(target_domain) and link not in visited_urls:\n",
    "                to_visit.append(link)\n",
    "\n",
    "        random_delay() \n",
    "\n",
    "# Step 10: Data Extraction\n",
    "\n",
    "# Save page text to a file\n",
    "def save_to_file(url, content,ix):\n",
    "    filename = url.replace('/', '_') +str(ix) +'.txt'\n",
    "    filename = filename.replace('/', '_')\n",
    "    filename = filename.replace(':', '_')\n",
    "    filename = \"text/\" + domain + \"/\"+ filename\n",
    "    #print(filename)\n",
    "    with open(filename, 'w', encoding='utf-8') as file:\n",
    "        file.write(content)\n",
    "\n",
    "# Start crawling\n",
    "\n",
    "target_domain = \"http://example.com\"\n",
    "domain = 'example.com' \n",
    "document_links = []\n",
    "\n",
    "crawl_pages(target_domain,document_links)\n",
    "print(len(document_links))"
   ]
  },
  {
   "cell_type": "code",
   "execution_count": null,
   "id": "b6a03421",
   "metadata": {},
   "outputs": [],
   "source": []
  },
  {
   "cell_type": "code",
   "execution_count": 3,
   "id": "22d69dca",
   "metadata": {},
   "outputs": [
    {
     "data": {
      "text/html": [
       "<div>\n",
       "<style scoped>\n",
       "    .dataframe tbody tr th:only-of-type {\n",
       "        vertical-align: middle;\n",
       "    }\n",
       "\n",
       "    .dataframe tbody tr th {\n",
       "        vertical-align: top;\n",
       "    }\n",
       "\n",
       "    .dataframe thead th {\n",
       "        text-align: right;\n",
       "    }\n",
       "</style>\n",
       "<table border=\"1\" class=\"dataframe\">\n",
       "  <thead>\n",
       "    <tr style=\"text-align: right;\">\n",
       "      <th></th>\n",
       "      <th>fname</th>\n",
       "      <th>text</th>\n",
       "    </tr>\n",
       "  </thead>\n",
       "  <tbody>\n",
       "    <tr>\n",
       "      <th>0</th>\n",
       "      <td>Kosovo crisis 799</td>\n",
       "      <td>Tensions between Serbia and Kosovo\\n\\n\\n2022–2...</td>\n",
       "    </tr>\n",
       "    <tr>\n",
       "      <th>1</th>\n",
       "      <td>rder Protection 479</td>\n",
       "      <td>American federal law enforcement agency\\n\\n\\nU...</td>\n",
       "    </tr>\n",
       "    <tr>\n",
       "      <th>2</th>\n",
       "      <td>ence 388</td>\n",
       "      <td>Statement or vote about whether someone in a p...</td>\n",
       "    </tr>\n",
       "    <tr>\n",
       "      <th>3</th>\n",
       "      <td>–present) 323</td>\n",
       "      <td>\"Libyan Civil War\" redirects here. For other u...</td>\n",
       "    </tr>\n",
       "    <tr>\n",
       "      <th>4</th>\n",
       "      <td>s 310</td>\n",
       "      <td>Paramilitary unit formed in 2013\\nIt has been ...</td>\n",
       "    </tr>\n",
       "  </tbody>\n",
       "</table>\n",
       "</div>"
      ],
      "text/plain": [
       "                 fname                                               text\n",
       "0    Kosovo crisis 799  Tensions between Serbia and Kosovo\\n\\n\\n2022–2...\n",
       "1  rder Protection 479  American federal law enforcement agency\\n\\n\\nU...\n",
       "2             ence 388  Statement or vote about whether someone in a p...\n",
       "3        –present) 323  \"Libyan Civil War\" redirects here. For other u...\n",
       "4                s 310  Paramilitary unit formed in 2013\\nIt has been ..."
      ]
     },
     "execution_count": 3,
     "metadata": {},
     "output_type": "execute_result"
    }
   ],
   "source": [
    "import pandas as pd\n",
    "import os\n",
    "# Create a list to store the text files\n",
    "texts=[]\n",
    "\n",
    "# Get all the text files in the text directory\n",
    "for file in os.listdir(\"text/\" + domain + \"/\"):\n",
    "    if file=='.DS_Store':\n",
    "        continue\n",
    "    # Open the file and read the text\n",
    "    with open(\"text/\" + domain + \"/\"+ file, \"r\", encoding=\"UTF-8\") as f:\n",
    "        text = f.read()\n",
    "        texts.append((file[20:-4].replace('-',' ').replace('_', ' ').replace('#update',''), text))\n",
    "\n",
    "# Create a dataframe from the list of texts\n",
    "df = pd.DataFrame(texts, columns = ['fname', 'text'])\n",
    "\n",
    "df['text'] = df.fname + \". \" + remove_newlines(df.text)\n",
    "\n",
    "\n",
    "df.to_csv('processed/scraped.csv',escapechar='\\\\')\n",
    "df.head()"
   ]
  },
  {
   "cell_type": "code",
   "execution_count": 12,
   "id": "429e7bea",
   "metadata": {},
   "outputs": [
    {
     "data": {
      "text/plain": [
       "<AxesSubplot: >"
      ]
     },
     "execution_count": 12,
     "metadata": {},
     "output_type": "execute_result"
    },
    {
     "data": {
      "image/png": "[encoded data removed]",
      "text/plain": [
       "<Figure size 640x480 with 1 Axes>"
      ]
     },
     "metadata": {},
     "output_type": "display_data"
    }
   ],
   "source": [
    "import tiktoken\n",
    "\n",
    "# Load the cl100k_base tokenizer which is designed to work with the ada-002 model\n",
    "tokenizer = tiktoken.get_encoding(\"cl100k_base\")\n",
    "\n",
    "df = pd.read_csv('processed/scraped.csv', index_col=0)\n",
    "df.columns = ['title', 'text']\n",
    "\n",
    "# Tokenize the text and save the number of tokens to a new column\n",
    "#df['n_tokens'] = df.text.apply(lambda x: len(tokenizer.encode(x)))\n",
    "for index, row in df.iterrows():\n",
    "    \n",
    "    text = row['text']\n",
    "    if type(text) == float:\n",
    "        n_tokens = len(tokenizer.encode(''))\n",
    "    else:\n",
    "        n_tokens = len(tokenizer.encode(text))\n",
    "    df.at[index, 'n_tokens'] = n_tokens\n",
    "\n",
    "# Visualize the distribution of the number of tokens per row using a histogram\n",
    "df.n_tokens.hist()"
   ]
  },
  {
   "cell_type": "code",
   "execution_count": 14,
   "id": "4b8a4220",
   "metadata": {},
   "outputs": [],
   "source": [
    "max_tokens = 1000\n",
    "\n",
    "# Function to split the text into chunks of a maximum number of tokens\n",
    "def split_into_many(text, max_tokens = max_tokens):\n",
    "\n",
    "    # Split the text into sentences\n",
    "    sentences = text.split('. ')\n",
    "\n",
    "    # Get the number of tokens for each sentence\n",
    "    n_tokens = [len(tokenizer.encode(\" \" + sentence)) for sentence in sentences]\n",
    "\n",
    "    chunks = []\n",
    "    tokens_so_far = 0\n",
    "    chunk = []\n",
    "\n",
    "    # Loop through the sentences and tokens joined together in a tuple\n",
    "    for sentence, token in zip(sentences, n_tokens):\n",
    "\n",
    "        # If the number of tokens so far plus the number of tokens in the current sentence is greater\n",
    "        # than the max number of tokens, then add the chunk to the list of chunks and reset\n",
    "        # the chunk and tokens so far\n",
    "        if tokens_so_far + token > max_tokens:\n",
    "            chunks.append(\". \".join(chunk) + \".\")\n",
    "            chunk = []\n",
    "            tokens_so_far = 0\n",
    "\n",
    "        # If the number of tokens in the current sentence is greater than the max number of\n",
    "        # tokens, go to the next sentence\n",
    "        if token > max_tokens:\n",
    "            continue\n",
    "\n",
    "        # Otherwise, add the sentence to the chunk and add the number of tokens to the total\n",
    "        chunk.append(sentence)\n",
    "        tokens_so_far += token + 1\n",
    "\n",
    "    return chunks"
   ]
  },
  {
   "cell_type": "code",
   "execution_count": 16,
   "id": "7a44e7aa",
   "metadata": {},
   "outputs": [],
   "source": [
    "shortened = []\n",
    "\n",
    "# Loop through the dataframe\n",
    "for row in df.iterrows():\n",
    "    \n",
    "\n",
    "    # If the text is None, go to the next row\n",
    "    if row[1]['text'] is None:\n",
    "        continue\n",
    "\n",
    "    # If the number of tokens is greater than the max number of tokens, split the text into chunks\n",
    "    if row[1]['n_tokens'] > max_tokens:\n",
    "        shortened += split_into_many(row[1]['text'])\n",
    "\n",
    "    # Otherwise, add the text to the list of shortened texts\n",
    "    else:\n",
    "        shortened.append( row[1]['text'] )"
   ]
  },
  {
   "cell_type": "code",
   "execution_count": 29,
   "id": "ded863d0",
   "metadata": {},
   "outputs": [
    {
     "data": {
      "text/plain": [
       "<AxesSubplot: >"
      ]
     },
     "execution_count": 29,
     "metadata": {},
     "output_type": "execute_result"
    },
    {
     "data": {
      "image/png": "[encoded data removed]",
      "text/plain": [
       "<Figure size 640x480 with 1 Axes>"
      ]
     },
     "metadata": {},
     "output_type": "display_data"
    }
   ],
   "source": [
    "df = pd.DataFrame(shortened, columns = ['text'])\n",
    "\n",
    "#df['n_tokens'] = df.text.apply(lambda x: len(tokenizer.encode(x)))\n",
    "token_counts = []\n",
    "for index, row in df.iterrows():\n",
    "    text = row['text']\n",
    "    if type(text)==float:\n",
    "        text = ''\n",
    "        token_count = len(tokenizer.encode(text))\n",
    "        token_counts.append(token_count)\n",
    "    else:\n",
    "        token_count = len(tokenizer.encode(text))\n",
    "        token_counts.append(token_count)\n",
    "\n",
    "# Add the token counts list as a new column in the DataFrame\n",
    "df['n_tokens'] = token_counts\n",
    "\n",
    "\n",
    "df.n_tokens.hist()"
   ]
  },
  {
   "cell_type": "code",
   "execution_count": 31,
   "id": "691b4e4d",
   "metadata": {},
   "outputs": [
    {
     "name": "stderr",
     "output_type": "stream",
     "text": [
      "2023-08-17 19:37:18.456955: I tensorflow/core/platform/cpu_feature_guard.cc:182] This TensorFlow binary is optimized to use available CPU instructions in performance-critical operations.\n",
      "To enable the following instructions: AVX2 FMA, in other operations, rebuild TensorFlow with the appropriate compiler flags.\n"
     ]
    }
   ],
   "source": [
    "from sentence_transformers import SentenceTransformer, util\n",
    "model = SentenceTransformer('multi-qa-MiniLM-L6-cos-v1')"
   ]
  },
  {
   "cell_type": "code",
   "execution_count": 32,
   "id": "dc0c2742",
   "metadata": {},
   "outputs": [],
   "source": [
    "def get_embeddings(text_list):\n",
    "    embedding = model.encode(text_list)\n",
    "    return embedding\n"
   ]
  },
  {
   "cell_type": "code",
   "execution_count": 40,
   "id": "9627bd46",
   "metadata": {},
   "outputs": [
    {
     "name": "stderr",
     "output_type": "stream",
     "text": [
      "/var/folders/8h/d3h46s_d0cq4xl30nshrhl6r0000gn/T/ipykernel_49156/1525183762.py:1: SettingWithCopyWarning: \n",
      "A value is trying to be set on a copy of a slice from a DataFrame.\n",
      "Try using .loc[row_indexer,col_indexer] = value instead\n",
      "\n",
      "See the caveats in the documentation: https://pandas.pydata.org/pandas-docs/stable/user_guide/indexing.html#returning-a-view-versus-a-copy\n",
      "  df['embeddings'] = get_embeddings(df.text.tolist()).tolist()\n"
     ]
    },
    {
     "data": {
      "text/html": [
       "<div>\n",
       "<style scoped>\n",
       "    .dataframe tbody tr th:only-of-type {\n",
       "        vertical-align: middle;\n",
       "    }\n",
       "\n",
       "    .dataframe tbody tr th {\n",
       "        vertical-align: top;\n",
       "    }\n",
       "\n",
       "    .dataframe thead th {\n",
       "        text-align: right;\n",
       "    }\n",
       "</style>\n",
       "<table border=\"1\" class=\"dataframe\">\n",
       "  <thead>\n",
       "    <tr style=\"text-align: right;\">\n",
       "      <th></th>\n",
       "      <th>text</th>\n",
       "      <th>n_tokens</th>\n",
       "      <th>embeddings</th>\n",
       "    </tr>\n",
       "  </thead>\n",
       "  <tbody>\n",
       "    <tr>\n",
       "      <th>0</th>\n",
       "      <td>Tensions between Serbia and Kosovo\\n\\n\\n2022–2...</td>\n",
       "      <td>990</td>\n",
       "      <td>[-0.06889614462852478, 0.05292064696550369, -0...</td>\n",
       "    </tr>\n",
       "    <tr>\n",
       "      <th>1</th>\n",
       "      <td>State Department special envoy for the Balkans...</td>\n",
       "      <td>309</td>\n",
       "      <td>[-0.01720403879880905, 0.09949538111686707, -0...</td>\n",
       "    </tr>\n",
       "    <tr>\n",
       "      <th>2</th>\n",
       "      <td>The police initially denied the shooting had o...</td>\n",
       "      <td>609</td>\n",
       "      <td>[0.028161808848381042, 0.11421798169612885, 0....</td>\n",
       "    </tr>\n",
       "    <tr>\n",
       "      <th>3</th>\n",
       "      <td>Despite the ban, it was reported that Serbian ...</td>\n",
       "      <td>989</td>\n",
       "      <td>[0.004485389683395624, 0.038330480456352234, -...</td>\n",
       "    </tr>\n",
       "    <tr>\n",
       "      <th>4</th>\n",
       "      <td>Tadić claimed that the proposal would allow Ko...</td>\n",
       "      <td>974</td>\n",
       "      <td>[-0.04736606776714325, 0.029202641919255257, -...</td>\n",
       "    </tr>\n",
       "  </tbody>\n",
       "</table>\n",
       "</div>"
      ],
      "text/plain": [
       "                                                text  n_tokens  \\\n",
       "0  Tensions between Serbia and Kosovo\\n\\n\\n2022–2...       990   \n",
       "1  State Department special envoy for the Balkans...       309   \n",
       "2  The police initially denied the shooting had o...       609   \n",
       "3  Despite the ban, it was reported that Serbian ...       989   \n",
       "4  Tadić claimed that the proposal would allow Ko...       974   \n",
       "\n",
       "                                          embeddings  \n",
       "0  [-0.06889614462852478, 0.05292064696550369, -0...  \n",
       "1  [-0.01720403879880905, 0.09949538111686707, -0...  \n",
       "2  [0.028161808848381042, 0.11421798169612885, 0....  \n",
       "3  [0.004485389683395624, 0.038330480456352234, -...  \n",
       "4  [-0.04736606776714325, 0.029202641919255257, -...  "
      ]
     },
     "execution_count": 40,
     "metadata": {},
     "output_type": "execute_result"
    }
   ],
   "source": [
    "df['embeddings'] = get_embeddings(df.text.tolist()).tolist()\n",
    "df.to_csv('processed/embeddings.csv')\n",
    "df.head()"
   ]
  },
  {
   "cell_type": "code",
   "execution_count": 41,
   "id": "0ab76770",
   "metadata": {},
   "outputs": [
    {
     "data": {
      "text/html": [
       "<div>\n",
       "<style scoped>\n",
       "    .dataframe tbody tr th:only-of-type {\n",
       "        vertical-align: middle;\n",
       "    }\n",
       "\n",
       "    .dataframe tbody tr th {\n",
       "        vertical-align: top;\n",
       "    }\n",
       "\n",
       "    .dataframe thead th {\n",
       "        text-align: right;\n",
       "    }\n",
       "</style>\n",
       "<table border=\"1\" class=\"dataframe\">\n",
       "  <thead>\n",
       "    <tr style=\"text-align: right;\">\n",
       "      <th></th>\n",
       "      <th>text</th>\n",
       "      <th>n_tokens</th>\n",
       "      <th>embeddings</th>\n",
       "    </tr>\n",
       "  </thead>\n",
       "  <tbody>\n",
       "    <tr>\n",
       "      <th>0</th>\n",
       "      <td>Tensions between Serbia and Kosovo\\n\\n\\n2022–2...</td>\n",
       "      <td>990</td>\n",
       "      <td>[-0.06889614462852478, 0.05292064696550369, -0...</td>\n",
       "    </tr>\n",
       "    <tr>\n",
       "      <th>1</th>\n",
       "      <td>State Department special envoy for the Balkans...</td>\n",
       "      <td>309</td>\n",
       "      <td>[-0.01720403879880905, 0.09949538111686707, -0...</td>\n",
       "    </tr>\n",
       "    <tr>\n",
       "      <th>2</th>\n",
       "      <td>The police initially denied the shooting had o...</td>\n",
       "      <td>609</td>\n",
       "      <td>[0.028161808848381042, 0.11421798169612885, 0....</td>\n",
       "    </tr>\n",
       "    <tr>\n",
       "      <th>3</th>\n",
       "      <td>Despite the ban, it was reported that Serbian ...</td>\n",
       "      <td>989</td>\n",
       "      <td>[0.004485389683395624, 0.038330480456352234, -...</td>\n",
       "    </tr>\n",
       "    <tr>\n",
       "      <th>4</th>\n",
       "      <td>Tadić claimed that the proposal would allow Ko...</td>\n",
       "      <td>974</td>\n",
       "      <td>[-0.04736606776714325, 0.029202641919255257, -...</td>\n",
       "    </tr>\n",
       "  </tbody>\n",
       "</table>\n",
       "</div>"
      ],
      "text/plain": [
       "                                                text  n_tokens  \\\n",
       "0  Tensions between Serbia and Kosovo\\n\\n\\n2022–2...       990   \n",
       "1  State Department special envoy for the Balkans...       309   \n",
       "2  The police initially denied the shooting had o...       609   \n",
       "3  Despite the ban, it was reported that Serbian ...       989   \n",
       "4  Tadić claimed that the proposal would allow Ko...       974   \n",
       "\n",
       "                                          embeddings  \n",
       "0  [-0.06889614462852478, 0.05292064696550369, -0...  \n",
       "1  [-0.01720403879880905, 0.09949538111686707, -0...  \n",
       "2  [0.028161808848381042, 0.11421798169612885, 0....  \n",
       "3  [0.004485389683395624, 0.038330480456352234, -...  \n",
       "4  [-0.04736606776714325, 0.029202641919255257, -...  "
      ]
     },
     "execution_count": 41,
     "metadata": {},
     "output_type": "execute_result"
    }
   ],
   "source": [
    "import numpy as np\n",
    "from openai.embeddings_utils import distances_from_embeddings\n",
    "\n",
    "df=pd.read_csv('processed/embeddings.csv', index_col=0)\n",
    "df['embeddings'] = df['embeddings'].apply(eval).apply(np.array)\n",
    "\n",
    "df.head()"
   ]
  },
  {
   "cell_type": "code",
   "execution_count": 42,
   "id": "4e2727ea",
   "metadata": {},
   "outputs": [],
   "source": [
    "def create_context(question, df, max_len=1800, size=\"ada\"):\n",
    "    \"\"\"\n",
    "    Create a context for a question by finding the most similar context from the dataframe\n",
    "    \"\"\"\n",
    "\n",
    "    # Get the embeddings for the question\n",
    "    q_embeddings = get_embeddings(question)\n",
    "    # Get the distances from the embeddings\n",
    "    df['distances'] = distances_from_embeddings(q_embeddings, df['embeddings'].values, distance_metric='cosine')\n",
    "\n",
    "\n",
    "    returns = []\n",
    "    cur_len = 0\n",
    "\n",
    "    # Sort by distance and add the text to the context until the context is too long\n",
    "    for i, row in df.sort_values('distances', ascending=True).iterrows():\n",
    "\n",
    "        # Add the length of the text to the current length\n",
    "        cur_len += row['n_tokens'] + 4\n",
    "        \n",
    "\n",
    "        # If the context is too long, break\n",
    "        if cur_len > max_len:\n",
    "            break\n",
    "\n",
    "        # Else add it to the text that is being returned\n",
    "        returns.append(row[\"text\"])\n",
    "\n",
    "    # Return the context\n",
    "    #print(returns)\n",
    "    return \"\\n\\n###\\n\\n\".join(returns)"
   ]
  },
  {
   "cell_type": "code",
   "execution_count": null,
   "id": "b9cf661c",
   "metadata": {},
   "outputs": [],
   "source": []
  },
  {
   "cell_type": "code",
   "execution_count": 43,
   "id": "9e092752",
   "metadata": {},
   "outputs": [],
   "source": [
    "import openai\n",
    "openai.api_type = \"\"\n",
    "openai.api_base = \"\"\n",
    "openai.api_version = \"\"\n",
    "openai.api_key = ''\n",
    "\n",
    "\n",
    "\n",
    "def answer_question(\n",
    "    df,\n",
    "    model=\"text-davinci-003\",\n",
    "    question=\"Am I allowed to publish model outputs to Twitter, without a human review?\",\n",
    "    max_len=1800,\n",
    "    size=\"ada\",\n",
    "    debug=False,\n",
    "    max_tokens=150,\n",
    "    stop_sequence=None\n",
    "):\n",
    "    \"\"\"\n",
    "    Answer a question based on the most similar context from the dataframe texts\n",
    "    \"\"\"\n",
    "    context = create_context(\n",
    "        question,\n",
    "        df,\n",
    "        max_len=max_len,\n",
    "        size=size,\n",
    "    )\n",
    "    # If debug, print the raw model response\n",
    "    if debug:\n",
    "        print(\"Context:\\n\" + context)\n",
    "        print(\"\\n\\n\")\n",
    "\n",
    "    try:\n",
    "        # Create a completions using the question and context\n",
    "        response = openai.Completion.create(\n",
    "            prompt=f\"Answer the question based on the context below, and if the question can't be answered based on the context, say \\\"I don't know\\\"\\n\\nContext: {context}\\n\\n---\\n\\nQuestion: {question}\\nAnswer:\",\n",
    "            temperature=0,\n",
    "            max_tokens=max_tokens,\n",
    "            top_p=1,\n",
    "            frequency_penalty=0,\n",
    "            presence_penalty=0,\n",
    "            stop=stop_sequence,\n",
    "            engine=model,\n",
    "        )\n",
    "        return response[\"choices\"][0][\"text\"].strip()\n",
    "    except Exception as e:\n",
    "        print(e)\n",
    "        return \"\""
   ]
  },
  {
   "cell_type": "code",
   "execution_count": 49,
   "id": "f9c955f1",
   "metadata": {},
   "outputs": [
    {
     "data": {
      "text/plain": [
       "'Sheikh Hasina, Prime minister (1996–2001)\\nLatifur Rahman, Prime minister (2001)\\nKhaleda Zia, Prime minister (2001–2006)\\nIajuddin Ahmed, Prime minister (2006–2007)\\nFazlul Haque, Interim Prime minister (2007)\\nFakhruddin Ahmed, Interim Prime minister (2007–2009)\\nSheikh Hasina, Prime minister (2009–present)'"
      ]
     },
     "execution_count": 49,
     "metadata": {},
     "output_type": "execute_result"
    }
   ],
   "source": [
    "answer_question(df, question=\"give me list of prime ministers of the world\", debug=False)"
   ]
  },
  {
   "cell_type": "code",
   "execution_count": 50,
   "id": "2513ffd8",
   "metadata": {},
   "outputs": [
    {
     "data": {
      "text/plain": [
       "\"Wikipedia is a free online encyclopedia created and edited by volunteers around the world and hosted by the Wikimedia Foundation. It is a multilingual project available in more than 300 languages. Wikipedia's articles provide links to guide the user to related pages with additional information.\""
      ]
     },
     "execution_count": 50,
     "metadata": {},
     "output_type": "execute_result"
    }
   ],
   "source": [
    "answer_question(df, question=\"briefly explain wikipedia\", debug=False)"
   ]
  }
 ],
 "metadata": {
  "kernelspec": {
   "display_name": "Python 3 (ipykernel)",
   "language": "python",
   "name": "python3"
  },
  "language_info": {
   "codemirror_mode": {
    "name": "ipython",
    "version": 3
   },
   "file_extension": ".py",
   "mimetype": "text/x-python",
   "name": "python",
   "nbconvert_exporter": "python",
   "pygments_lexer": "ipython3",
   "version": "3.10.9"
  }
 },
 "nbformat": 4,
 "nbformat_minor": 5
}
